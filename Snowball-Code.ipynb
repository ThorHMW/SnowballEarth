{
 "cells": [
  {
   "cell_type": "code",
   "execution_count": 2,
   "id": "8489da28",
   "metadata": {},
   "outputs": [],
   "source": [
    "#Import libraries \n",
    "import numpy as np\n",
    "import math\n",
    "import matplotlib.pyplot as plt\n"
   ]
  },
  {
   "cell_type": "code",
   "execution_count": 3,
   "id": "8ae9024b",
   "metadata": {},
   "outputs": [],
   "source": [
    "#Define constants \n",
    "\n",
    "pi = np.pi\n",
    "deg2rad = pi/180\n",
    "rad2deg = 1/deg2rad\n",
    "\n",
    "\n",
    "# This is the main script in the steady state version of the North model\n",
    "\n",
    "# Set physical parameters\n",
    "S0 = 1354.0 #The solar constant, corresponds to Q_0=338.5 W/m2\n",
    "L = 1 #the relative strength of the solar constant, 1 = present\n",
    "A = 203.3 #Infrared flux A-constant. In units W/m2. In North A = 201.4\n",
    "B = 2.09 #Infrared flux B-constant. In units W/(m2 * K). In North B = 1.45 \n",
    "Dmag = 0.44 #Infrared flux D-constant. (Absorps B) In units W/(m2 * K). \n",
    "Cl = 9.8 #unit W/m2 * yr/K. Heat Capacity of the system\n",
    "Toffset = 0 \n",
    "coldstart = 0 #1, then Toffset is set to -40 for a cold initial temperature\n",
    "hadleyflag = 0 #0: no hadley cell\n",
    "albedoflag = 1 #1: albedo feedback with T_crit, otherwise a fixed boundary at 72deg\n",
    "\n",
    "# Define a function that initializes the model and calculates T\n",
    "# Set model parameters\n",
    "jmx = 251 #antallet af dataframes i some form\n",
    "delt = 1/50 \n",
    "NMAX = 100000\n",
    "delx = 2/jmx #bredden på x?\n",
    "\n",
    "# define an array with latitude steps in both x and phi\n",
    "x = np.linspace(-1, 1, jmx)\n",
    "phi = np.arcsin(x) * rad2deg\n",
    "\n",
    "\n"
   ]
  },
  {
   "cell_type": "code",
   "execution_count": 4,
   "id": "74852a68",
   "metadata": {},
   "outputs": [],
   "source": [
    "# Define the latitude dependent insolation function. xs is the latitudal variable\n",
    "def Q_lat(xs, L=1 , S0=1354.0):    \n",
    "    return  L * (S0/4) * (1 - 0.241 * (3 * np.square(xs) - 1))"
   ]
  },
  {
   "cell_type": "code",
   "execution_count": 5,
   "id": "be58cd09",
   "metadata": {},
   "outputs": [],
   "source": [
    "# Define the albedo function\n",
    "def albedo(T, jmx, albedoflag):\n",
    "    alb = np.ones(jmx) * 0.3 #this is the general albedo value for the Earth on average\n",
    "    if (albedoflag == 1):\n",
    "        k = np.argwhere(T <= -10) \n",
    "        alb[k] = 0.6# recalculate albedo for snowline at T=-10C. If the temperature is below -10, we have ice albedo of 0.6\n",
    "    else:\n",
    "        k = np.argwhere(abs(x) >= 0.95) #we have a ice cap at each pole\n",
    "        alb [k] = 0.6# recalculate albedo for fixed snowline\n",
    "    return alb"
   ]
  },
  {
   "cell_type": "code",
   "execution_count": 7,
   "id": "d4ae30ce",
   "metadata": {},
   "outputs": [],
   "source": [
    "# Define the heat diffusion function\n",
    "def D_lat(xs, D0=0.44, hadleyflag=False):\n",
    "    if hadleyflag == 1:\n",
    "        return D0 *(1 + 9 * np.exp(-(xs/np.sin(30 * np.pi/180))**6)) #latitude dependent diffusion with hadley cell\n",
    "    else:\n",
    "        return D0 * np.ones(len(xs)) # constant diffusion without hadley cell"
   ]
  },
  {
   "cell_type": "code",
   "execution_count": 9,
   "id": "24700c25",
   "metadata": {},
   "outputs": [],
   "source": [
    "# Define functions used for matrix operations when solving the equations\n",
    "\n",
    "# Define the intermediate function to calculate matrix coefficients\n",
    "def setupfastMh(delx, jmx, D, B, Cl, delt):\n",
    "    #set up lambda array.\n",
    "    lam = (1 - np.arange(-1, 1, delx) * np.arange(-1 ,1 , delx))/(delx * delx)\n",
    "    lam = D[0:jmx] * lam\n",
    "    \n",
    "    M = np.zeros((jmx, jmx))\n",
    "    \n",
    "    # do something special at the boundaries\n",
    "    M[0, 0] = -B - lam[1] #first points\n",
    "    M[0, 1] = lam[1]\n",
    "    M[jmx-1, jmx-2] = lam[jmx - 1] # last points\n",
    "    M[jmx-1, jmx-1] = -B - lam[jmx - 1]\n",
    "    for jj in range(jmx - 2):\n",
    "        j = jj + 2\n",
    "        M[j - 1, j - 2] = lam[j - 1]\n",
    "        M[j - 1, j - 1] = -B - (lam[j] + lam[j - 1])\n",
    "        M[j - 1, j] = lam[j]\n",
    "    # add in heat capacities\n",
    "    M = M / Cl\n",
    "    # calculate the inverse of M', the matrix operator.\n",
    "    Mh= M\n",
    "    return Mh\n",
    "\n",
    "def setupfastinvM(Mh, jmx, delt):\n",
    "    M = 0.5 * Mh\n",
    "    for j in range(jmx):\n",
    "        M[j, j]=M[j, j] - 1/delt\n",
    "    invM = np.linalg.inv(M) \n",
    "    return invM\n"
   ]
  },
  {
   "cell_type": "code",
   "execution_count": 10,
   "id": "a4f33818",
   "metadata": {},
   "outputs": [],
   "source": [
    "# Calculate an array of annual mean insolation for the latitudes steps\n",
    "S = Q_lat(x, L, S0)  \n",
    "    \n",
    "# Calculate an array of diffussion constants\n",
    "xmp = np.arange(-1, 1 + delx, delx)\n",
    "D = D_lat(xmp, Dmag, hadleyflag)\n",
    "\n",
    "# define initial T array\n",
    "T = 0 * (1 - 2 * np.square(x))\n",
    "if coldstart == 1:\n",
    "    Toffset = -40\n",
    "T = T + Toffset\n",
    "Tinit = T\n",
    "\n",
    "# Calculate global mean temperature\n",
    "Tglob = np.mean(T) #ok to take the mean when we use x\n",
    "\n",
    "# Calculate initial albedo\n",
    "alb = albedo(T, jmx, albedoflag)\n",
    "\n",
    "# Initial boundary conditions\n",
    "src = (1 - alb) * S/Cl -A/Cl\n",
    "Mh = setupfastMh(delx, jmx, D, B, Cl, delt)\n",
    "invM = setupfastinvM(Mh, jmx, delt)\n",
    "h = np.dot(Mh, T) + src\n"
   ]
  },
  {
   "cell_type": "code",
   "execution_count": 11,
   "id": "407e3c0b",
   "metadata": {},
   "outputs": [],
   "source": [
    "# Start time-stepping loop\n",
    "for n in range(2): #Should be NMAX\n",
    "    Tglob_prev = Tglob\n",
    "    # calculate src for this loop\n",
    "    alb = albedo(T, jmx, albedoflag)\n",
    "    src = (1 - alb) * S/Cl - A/Cl\n",
    "    # Calculate new T.\n",
    "    T = -np.dot(invM, 0.5* (h + src) + T/delt)\n",
    "    \n",
    "    # Calculate h for next loop.\n",
    "    h = np.dot(Mh, T) + src\n",
    "    # Check to see if global mean temperature has converged\n",
    "    Tglob = np.mean(T)\n",
    "    #print(Tglob)\n",
    "    Tchange = Tglob - Tglob_prev\n",
    "    if abs(Tchange)< 1e-12:\n",
    "        break\n",
    "\n"
   ]
  },
  {
   "cell_type": "code",
   "execution_count": 12,
   "id": "622ebe30",
   "metadata": {},
   "outputs": [],
   "source": [
    "# Compute meridional heat flux and its convergence\n",
    "a = 6.37e+6; # earth radius in meters\n",
    "Mh = setupfastMh(delx,jmx,D,0,1,delt)\n",
    "invM = setupfastinvM(Mh,jmx,delt)\n",
    "Dmp = D[0:jmx]\n",
    "divF = np.dot(Mh,T)\n",
    "F = -2 * math.pi * a * a * np.sqrt(1 - x*x) * Dmp * np.gradient(T,delx)\n"
   ]
  }
 ],
 "metadata": {
  "kernelspec": {
   "display_name": "Python 3 (ipykernel)",
   "language": "python",
   "name": "python3"
  },
  "language_info": {
   "codemirror_mode": {
    "name": "ipython",
    "version": 3
   },
   "file_extension": ".py",
   "mimetype": "text/x-python",
   "name": "python",
   "nbconvert_exporter": "python",
   "pygments_lexer": "ipython3",
   "version": "3.11.5"
  }
 },
 "nbformat": 4,
 "nbformat_minor": 5
}
